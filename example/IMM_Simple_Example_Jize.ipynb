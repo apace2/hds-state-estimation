{
 "cells": [
  {
   "cell_type": "code",
   "execution_count": 1,
   "metadata": {},
   "outputs": [],
   "source": [
    "import filterpy\n",
    "from filterpy.kalman import KalmanFilter\n",
    "\n",
    "import matplotlib.pyplot as plt\n",
    "\n",
    "import numpy as np\n",
    "\n",
    "import copy\n",
    "import context\n",
    "import os"
   ]
  },
  {
   "cell_type": "code",
   "execution_count": 2,
   "metadata": {},
   "outputs": [],
   "source": [
    "np.random.seed(1234)\n",
    "\n",
    "\n",
    "\n",
    "switching_times = [1,3]\n",
    "Tf = 4\n",
    "switching_times = [1,2]\n",
    "Tf = 3\n",
    "\n",
    "dt = 2**-4 #choose a power of 2\n",
    "\n",
    "dt = 2**-6\n",
    "\n",
    "t0=0\n",
    "x0=np.array([0])\n",
    "j0=1\n",
    "sigma = .01\n",
    "#sigma = .05\n",
    "\n",
    "u = [np.array([1]), np.array([-1])]"
   ]
  },
  {
   "cell_type": "markdown",
   "metadata": {},
   "source": [
    "### simulate the system"
   ]
  },
  {
   "cell_type": "code",
   "execution_count": 3,
   "metadata": {},
   "outputs": [],
   "source": [
    "def sim_system(resets= False, reset_size = None):\n",
    "    t = t0\n",
    "    j = j0\n",
    "    x = x0\n",
    "    m = x + np.random.normal(0,sigma)\n",
    "    \n",
    "    jarray =[j]\n",
    "    xarray =[x]\n",
    "    tarray =[t]\n",
    "    marray =[m]\n",
    "    \n",
    "    while t <Tf:\n",
    "        x = x + dt*u[j]\n",
    "        t = t + dt\n",
    "        if t in switching_times:\n",
    "            j = (j+1)%2\n",
    "            if resets:\n",
    "                if reset_size is None:\n",
    "                    x = x*0\n",
    "                else:\n",
    "                    x = x + reset_size\n",
    "            \n",
    "        jarray.append(j)\n",
    "        tarray.append(t)\n",
    "        xarray.append(x)\n",
    "        marray.append(x+np.random.normal(0,sigma))\n",
    "        \n",
    "    t = np.asarray(tarray)\n",
    "    x = np.asarray(xarray)\n",
    "    j = np.asarray(jarray)\n",
    "    m = np.asarray(marray)\n",
    "    return t,x,j,m"
   ]
  },
  {
   "cell_type": "code",
   "execution_count": 4,
   "metadata": {},
   "outputs": [],
   "source": [
    "def plot_data(t,x,j,xhat,jhat):\n",
    "    fig,ax= plt.subplots(3,1, figsize=(6,8), sharex=True)\n",
    "    ax[0].plot(t,xhat-x)\n",
    "    ax[0].set_title('RMSE = '+str(np.sqrt(np.mean(np.power(xhat-x,2)))))\n",
    "    ax[1].plot(t,x, '--')\n",
    "    ax[1].plot(t, xhat)\n",
    "    ax[2].plot(t,jhat);\n",
    "    ax[2].plot(t,j)\n",
    "    ax[2].legend(['0','1','true'])\n",
    "    return fig,ax"
   ]
  },
  {
   "cell_type": "markdown",
   "metadata": {},
   "source": [
    "## Algorithms setup"
   ]
  },
  {
   "cell_type": "markdown",
   "metadata": {},
   "source": [
    "### IMM\n",
    "The Q parameter is the process noise for the individual Kalman filters, default value is .001"
   ]
  },
  {
   "cell_type": "code",
   "execution_count": 5,
   "metadata": {},
   "outputs": [],
   "source": [
    "def gen_imm(Q = np.diag([.001])):\n",
    "    filters = []\n",
    "    Q = Q\n",
    "    R = np.diag([(sigma)])\n",
    "    R = np.diag([(sigma**2)])\n",
    "    for uin in u:\n",
    "        filt = KalmanFilter(dim_x = 1, dim_z = 1)\n",
    "        filt.F = np.eye(len(x0)) # discrete time transition matrix\n",
    "        filt.B = uin*dt\n",
    "        filt.H = np.array([1])\n",
    "        filt.x = x0\n",
    "        filt.P *= 1e-2\n",
    "      \n",
    "        filt.R = R\n",
    "        filt.Q = Q\n",
    "        filters.append(filt)\n",
    "    \n",
    "    k = len(u)\n",
    "    mu = np.ones(k)/k\n",
    "    prob = .1\n",
    "    trans = np.ones((k,k))*prob\n",
    "    np.fill_diagonal(trans, 1-(k-1)*prob)\n",
    "    \n",
    "    imm = filterpy.kalman.IMMEstimator(filters,mu,trans)\n",
    "    return imm"
   ]
  },
  {
   "cell_type": "code",
   "execution_count": 6,
   "metadata": {},
   "outputs": [],
   "source": [
    "def run_imm(Q=None):\n",
    "    imm_xhat = []\n",
    "    imm_what = []\n",
    "\n",
    "    filter_x = []\n",
    "    \n",
    "    if Q is None:\n",
    "        imm = gen_imm()\n",
    "    else:\n",
    "        imm = gen_imm(Q)\n",
    "\n",
    "    for meas in m:\n",
    "        imm.predict(u=1)\n",
    "        imm.update(meas)\n",
    "        imm_xhat.append(imm.x.copy())\n",
    "        filter_x.append(np.hstack([imm.filters[0].x, imm.filters[1].x]))\n",
    "        imm_what.append(imm.mu.copy())\n",
    "\n",
    "    imm_x = np.vstack(imm_xhat)\n",
    "    imm_w = np.vstack(imm_what)\n",
    "    filt_x = np.vstack(filter_x)\n",
    "    \n",
    "    return imm_x, imm_w, filt_x"
   ]
  },
  {
   "cell_type": "markdown",
   "metadata": {},
   "source": [
    "## Variable projection (i.e. our method)"
   ]
  },
  {
   "cell_type": "code",
   "execution_count": 7,
   "metadata": {},
   "outputs": [],
   "source": [
    "import context\n",
    "import hds.switchedkalman as sk\n",
    "\n",
    "fs = [lambda x: x + dt, lambda x: x-dt]\n",
    "grads = [lambda x: [1.], lambda x: [1.]]\n",
    "H = np.asarray([1])\n",
    "\n",
    "T = int(Tf/dt)+1\n",
    "G = [fs for _ in range(T)]\n",
    "dG =[grads for _ in range(T)]\n",
    "\n",
    "# tunned default parameters\n",
    "Qinv = np.diag([1])\n",
    "Rinv = np.diag([1.])\n",
    "r = .1\n",
    "nu = .001\n",
    "beta = 1e-10\n",
    "itr = 10\n",
    "\n"
   ]
  },
  {
   "cell_type": "code",
   "execution_count": 8,
   "metadata": {},
   "outputs": [],
   "source": [
    "def variable_projection(meas, Qinv=Qinv, Rinv=Rinv, nu=nu, beta=beta, r=r, itr = itr):\n",
    "    np.random.randn(127)\n",
    "    model = sk.SwitchedKalman(m,G,dG,H,Qinv,Rinv,x0,r)\n",
    "    #model = sk.hds.HDS(m,G,dG,H,Qinv,Rinv,x0,r)\n",
    "\n",
    "    smooth_x = np.random.randn(T,1)*.1\n",
    "    smooth_w = np.random.rand(T,2)\n",
    "    \n",
    "    loss = []\n",
    "    for k in range(itr):\n",
    "        smooth_x,_ = model.updateX(smooth_x,smooth_w, iter=1)\n",
    "        smooth_w,_ = model.updateW(smooth_w,smooth_x,nu,beta,iter=1)\n",
    "        loss.append(model.computeObj(smooth_x,smooth_w,nu,beta))\n",
    "        \n",
    "    return smooth_x, smooth_w, loss"
   ]
  },
  {
   "cell_type": "markdown",
   "metadata": {},
   "source": [
    "## Continuous trajectory (no resets)"
   ]
  },
  {
   "cell_type": "code",
   "execution_count": 10,
   "metadata": {},
   "outputs": [],
   "source": [
    "t,x,j,m = sim_system(resets=False)"
   ]
  },
  {
   "cell_type": "code",
   "execution_count": 11,
   "metadata": {},
   "outputs": [
    {
     "data": {
      "image/png": "[encoded data removed]",
      "text/plain": [
       "<Figure size 432x576 with 3 Axes>"
      ]
     },
     "metadata": {
      "needs_background": "light"
     },
     "output_type": "display_data"
    }
   ],
   "source": [
    "imm_x, imm_w, _ = run_imm()\n",
    "plot_data(t,x,j,imm_x,imm_w);"
   ]
  },
  {
   "cell_type": "code",
   "execution_count": 12,
   "metadata": {},
   "outputs": [
    {
     "ename": "NameError",
     "evalue": "name 'FISTA' is not defined",
     "output_type": "error",
     "traceback": [
      "\u001b[0;31m---------------------------------------------------------------------------\u001b[0m",
      "\u001b[0;31mNameError\u001b[0m                                 Traceback (most recent call last)",
      "\u001b[0;32m<ipython-input-12-262b4620e63d>\u001b[0m in \u001b[0;36m<module>\u001b[0;34m\u001b[0m\n\u001b[0;32m----> 1\u001b[0;31m \u001b[0msmooth_x\u001b[0m\u001b[0;34m,\u001b[0m \u001b[0msmooth_w\u001b[0m\u001b[0;34m,\u001b[0m \u001b[0mloss\u001b[0m \u001b[0;34m=\u001b[0m \u001b[0mvariable_projection\u001b[0m\u001b[0;34m(\u001b[0m\u001b[0mm\u001b[0m\u001b[0;34m)\u001b[0m\u001b[0;34m\u001b[0m\u001b[0;34m\u001b[0m\u001b[0m\n\u001b[0m\u001b[1;32m      2\u001b[0m \u001b[0mplot_data\u001b[0m\u001b[0;34m(\u001b[0m\u001b[0mt\u001b[0m\u001b[0;34m,\u001b[0m\u001b[0mx\u001b[0m\u001b[0;34m,\u001b[0m\u001b[0mj\u001b[0m\u001b[0;34m,\u001b[0m\u001b[0msmooth_x\u001b[0m\u001b[0;34m,\u001b[0m\u001b[0msmooth_w\u001b[0m\u001b[0;34m[\u001b[0m\u001b[0;34m:\u001b[0m\u001b[0;34m,\u001b[0m\u001b[0;36m1\u001b[0m\u001b[0;34m]\u001b[0m\u001b[0;34m)\u001b[0m\u001b[0;34m;\u001b[0m\u001b[0;34m\u001b[0m\u001b[0;34m\u001b[0m\u001b[0m\n",
      "\u001b[0;32m<ipython-input-8-59e32d1e615b>\u001b[0m in \u001b[0;36mvariable_projection\u001b[0;34m(meas, Qinv, Rinv, nu, beta, r, itr)\u001b[0m\n\u001b[1;32m     10\u001b[0m     \u001b[0;32mfor\u001b[0m \u001b[0mk\u001b[0m \u001b[0;32min\u001b[0m \u001b[0mrange\u001b[0m\u001b[0;34m(\u001b[0m\u001b[0mitr\u001b[0m\u001b[0;34m)\u001b[0m\u001b[0;34m:\u001b[0m\u001b[0;34m\u001b[0m\u001b[0;34m\u001b[0m\u001b[0m\n\u001b[1;32m     11\u001b[0m         \u001b[0msmooth_x\u001b[0m\u001b[0;34m,\u001b[0m\u001b[0m_\u001b[0m \u001b[0;34m=\u001b[0m \u001b[0mmodel\u001b[0m\u001b[0;34m.\u001b[0m\u001b[0mupdateX\u001b[0m\u001b[0;34m(\u001b[0m\u001b[0msmooth_x\u001b[0m\u001b[0;34m,\u001b[0m\u001b[0msmooth_w\u001b[0m\u001b[0;34m,\u001b[0m \u001b[0miter\u001b[0m\u001b[0;34m=\u001b[0m\u001b[0;36m1\u001b[0m\u001b[0;34m)\u001b[0m\u001b[0;34m\u001b[0m\u001b[0;34m\u001b[0m\u001b[0m\n\u001b[0;32m---> 12\u001b[0;31m         \u001b[0msmooth_w\u001b[0m\u001b[0;34m,\u001b[0m\u001b[0m_\u001b[0m \u001b[0;34m=\u001b[0m \u001b[0mmodel\u001b[0m\u001b[0;34m.\u001b[0m\u001b[0mupdateW\u001b[0m\u001b[0;34m(\u001b[0m\u001b[0msmooth_w\u001b[0m\u001b[0;34m,\u001b[0m\u001b[0msmooth_x\u001b[0m\u001b[0;34m,\u001b[0m\u001b[0mnu\u001b[0m\u001b[0;34m,\u001b[0m\u001b[0mbeta\u001b[0m\u001b[0;34m,\u001b[0m\u001b[0miter\u001b[0m\u001b[0;34m=\u001b[0m\u001b[0;36m1\u001b[0m\u001b[0;34m)\u001b[0m\u001b[0;34m\u001b[0m\u001b[0;34m\u001b[0m\u001b[0m\n\u001b[0m\u001b[1;32m     13\u001b[0m         \u001b[0mloss\u001b[0m\u001b[0;34m.\u001b[0m\u001b[0mappend\u001b[0m\u001b[0;34m(\u001b[0m\u001b[0mmodel\u001b[0m\u001b[0;34m.\u001b[0m\u001b[0mcomputeObj\u001b[0m\u001b[0;34m(\u001b[0m\u001b[0msmooth_x\u001b[0m\u001b[0;34m,\u001b[0m\u001b[0msmooth_w\u001b[0m\u001b[0;34m,\u001b[0m\u001b[0mnu\u001b[0m\u001b[0;34m,\u001b[0m\u001b[0mbeta\u001b[0m\u001b[0;34m)\u001b[0m\u001b[0;34m)\u001b[0m\u001b[0;34m\u001b[0m\u001b[0;34m\u001b[0m\u001b[0m\n\u001b[1;32m     14\u001b[0m \u001b[0;34m\u001b[0m\u001b[0m\n",
      "\u001b[0;32m~/PhD/Code/hybrid-domain-system/hds/switchedkalman.py\u001b[0m in \u001b[0;36mupdateW\u001b[0;34m(self, w, x, nu, beta, iter)\u001b[0m\n\u001b[1;32m    162\u001b[0m             \u001b[0;32mreturn\u001b[0m \u001b[0mz\u001b[0m\u001b[0;34m\u001b[0m\u001b[0;34m\u001b[0m\u001b[0m\n\u001b[1;32m    163\u001b[0m \u001b[0;34m\u001b[0m\u001b[0m\n\u001b[0;32m--> 164\u001b[0;31m         \u001b[0;32mreturn\u001b[0m \u001b[0mFISTA\u001b[0m\u001b[0;34m.\u001b[0m\u001b[0mFISTA\u001b[0m\u001b[0;34m(\u001b[0m\u001b[0mw\u001b[0m\u001b[0;34m,\u001b[0m \u001b[0mg\u001b[0m\u001b[0;34m,\u001b[0m \u001b[0mprox\u001b[0m\u001b[0;34m,\u001b[0m \u001b[0mf\u001b[0m\u001b[0;34m,\u001b[0m \u001b[0mL\u001b[0m\u001b[0;34m,\u001b[0m \u001b[0miter\u001b[0m\u001b[0;34m=\u001b[0m\u001b[0miter\u001b[0m\u001b[0;34m)\u001b[0m\u001b[0;34m\u001b[0m\u001b[0;34m\u001b[0m\u001b[0m\n\u001b[0m\u001b[1;32m    165\u001b[0m \u001b[0;34m\u001b[0m\u001b[0m\n\u001b[1;32m    166\u001b[0m     \u001b[0;32mdef\u001b[0m \u001b[0mgradTest\u001b[0m\u001b[0;34m(\u001b[0m\u001b[0mself\u001b[0m\u001b[0;34m,\u001b[0m \u001b[0mx\u001b[0m\u001b[0;34m,\u001b[0m \u001b[0mw\u001b[0m\u001b[0;34m,\u001b[0m \u001b[0mnu\u001b[0m\u001b[0;34m,\u001b[0m \u001b[0mbeta\u001b[0m\u001b[0;34m,\u001b[0m \u001b[0mpert\u001b[0m\u001b[0;34m=\u001b[0m\u001b[0;36m1e-1\u001b[0m\u001b[0;34m)\u001b[0m\u001b[0;34m:\u001b[0m\u001b[0;34m\u001b[0m\u001b[0;34m\u001b[0m\u001b[0m\n",
      "\u001b[0;31mNameError\u001b[0m: name 'FISTA' is not defined"
     ]
    }
   ],
   "source": [
    "smooth_x, smooth_w, loss = variable_projection(m)\n",
    "plot_data(t,x,j,smooth_x,smooth_w[:,1]);"
   ]
  },
  {
   "cell_type": "code",
   "execution_count": null,
   "metadata": {},
   "outputs": [],
   "source": [
    "# store data for saving\n",
    "no_resets={}\n",
    "no_resets['true'] = {'t': copy.copy(t), 'x':copy.copy(x), 'w':copy.copy(j)}\n",
    "no_resets['imm'] = {'x':copy.copy(imm_x), 'w':copy.copy(imm_w)}\n",
    "no_resets['var_proj']={'x':copy.copy(smooth_x), 'w':copy.copy(smooth_w)}"
   ]
  },
  {
   "cell_type": "markdown",
   "metadata": {},
   "source": [
    "## With resets"
   ]
  },
  {
   "cell_type": "code",
   "execution_count": null,
   "metadata": {},
   "outputs": [],
   "source": [
    "t,x,j,m = sim_system(resets=True)"
   ]
  },
  {
   "cell_type": "code",
   "execution_count": null,
   "metadata": {},
   "outputs": [],
   "source": [
    "imm_x, imm_w, _ = run_imm()\n",
    "plot_data(t,x,j,imm_x,imm_w);"
   ]
  },
  {
   "cell_type": "markdown",
   "metadata": {},
   "source": [
    "There is a tradeoff in terms of seperation of the discrete state and tracking the continuous state."
   ]
  },
  {
   "cell_type": "code",
   "execution_count": null,
   "metadata": {},
   "outputs": [],
   "source": [
    "largeq=.2\n",
    "imm_x_largeq, imm_w_largeq, _ = run_imm(Q=largeq)\n",
    "plot_data(t,x,j,imm_x_largeq,imm_w_largeq);"
   ]
  },
  {
   "cell_type": "markdown",
   "metadata": {},
   "source": [
    "### Run our method"
   ]
  },
  {
   "cell_type": "code",
   "execution_count": null,
   "metadata": {},
   "outputs": [],
   "source": [
    "smooth_x, smooth_w, loss = variable_projection(m)"
   ]
  },
  {
   "cell_type": "code",
   "execution_count": null,
   "metadata": {},
   "outputs": [],
   "source": [
    "plot_data(t,x,j,smooth_x,smooth_w[:,1]);"
   ]
  },
  {
   "cell_type": "markdown",
   "metadata": {},
   "source": [
    "## Larger jumps"
   ]
  },
  {
   "cell_type": "markdown",
   "metadata": {},
   "source": [
    "The below is code in markdown so I (AP) can easily get in back if need be."
   ]
  },
  {
   "cell_type": "code",
   "execution_count": null,
   "metadata": {},
   "outputs": [],
   "source": [
    "t,x,j,m = sim_system(resets=True, reset_size=-5)"
   ]
  },
  {
   "cell_type": "code",
   "execution_count": null,
   "metadata": {},
   "outputs": [],
   "source": [
    "imm_x, imm_w, _ = run_imm(Q=.001)\n",
    "\n",
    "plot_data(t,x,j,imm_x,imm_w);"
   ]
  },
  {
   "cell_type": "code",
   "execution_count": null,
   "metadata": {},
   "outputs": [],
   "source": [
    "largeq=.25\n",
    "imm_x_largeq, imm_w_largeq, _ = run_imm(Q=largeq)\n",
    "plot_data(t,x,j,imm_x_largeq,imm_w_largeq);"
   ]
  },
  {
   "cell_type": "markdown",
   "metadata": {},
   "source": [
    "Notice how with a larger jump, a larger noise covariance is needed to track the continuous state, which causes less seperation between the estimated discrete states after the second jump and a longer delay in achieving the true discrete state after the first jump."
   ]
  },
  {
   "cell_type": "markdown",
   "metadata": {},
   "source": [
    "### Our method"
   ]
  },
  {
   "cell_type": "code",
   "execution_count": null,
   "metadata": {},
   "outputs": [],
   "source": [
    "smooth_x, smooth_w, loss = variable_projection(m)"
   ]
  },
  {
   "cell_type": "code",
   "execution_count": null,
   "metadata": {},
   "outputs": [],
   "source": [
    "plot_data(t,x,j,smooth_x,smooth_w[:,1]);"
   ]
  },
  {
   "cell_type": "code",
   "execution_count": null,
   "metadata": {},
   "outputs": [],
   "source": [
    "# store data\n",
    "resets={}\n",
    "resets['true'] = {'t': copy.copy(t), 'x':copy.copy(x), 'w':copy.copy(j)}\n",
    "resets['imm_q_001'] = {'x':copy.copy(imm_x), 'w':copy.copy(imm_w)}\n",
    "resets['imm_q4'] = {'x':copy.copy(imm_x_largeq), 'w':copy.copy(imm_w_largeq)}\n",
    "resets['var_proj']={'x':copy.copy(smooth_x), 'w':copy.copy(smooth_w)}"
   ]
  },
  {
   "cell_type": "code",
   "execution_count": null,
   "metadata": {},
   "outputs": [],
   "source": [
    "1/0"
   ]
  },
  {
   "cell_type": "markdown",
   "metadata": {},
   "source": [
    "## Save the data"
   ]
  },
  {
   "cell_type": "code",
   "execution_count": null,
   "metadata": {},
   "outputs": [],
   "source": [
    "#save the data\n",
    "output_folder = context.data_dir / \"IMM_Comparison\" / \"Reset\"\n",
    "\n",
    "if not os.path.exists(output_folder):\n",
    "    os.makedirs(output_folder)"
   ]
  },
  {
   "cell_type": "code",
   "execution_count": null,
   "metadata": {},
   "outputs": [],
   "source": [
    "header = '''\n",
    "ground truth for simple switched system\n",
    "switches at t=1 and t=5\n",
    "'''\n",
    "delim=','\n",
    "fmt='%.10e'\n",
    "t = resets['true']['t']\n",
    "gnd_truth = np.hstack((resets['true']['t'][:,np.newaxis],resets['true']['x'],resets['true']['w'][:,np.newaxis]))\n",
    "np.savetxt(output_folder/'gnd_truth.csv', gnd_truth, header=header, delimiter=delim, fmt=fmt)\n",
    "\n",
    "imm = resets['imm_q_001']\n",
    "imm_est = np.hstack([np.c_[t], imm['x'], imm['w']])\n",
    "np.savetxt( output_folder/'imm_q.001.csv', imm_est,header=header, delimiter=delim, fmt=fmt)\n",
    "\n",
    "\n",
    "imm = resets['imm_q4']\n",
    "imm_est = np.hstack([np.c_[t], imm['x'], imm['w']])\n",
    "np.savetxt( output_folder/('imm_q'+str(largeq)+'.csv'),imm_est, header=header, delimiter=delim, fmt=fmt)\n",
    "\n",
    "vp = resets['var_proj']\n",
    "vp_est = np.hstack([np.c_[t], vp['x'], vp['w']])\n",
    "np.savetxt( output_folder/'var_proj.csv',vp_est, header=header, delimiter=delim, fmt=fmt)\n"
   ]
  },
  {
   "cell_type": "code",
   "execution_count": null,
   "metadata": {},
   "outputs": [],
   "source": [
    "#save the data\n",
    "output_folder = context.data_dir / \"IMM_Comparison\" / \"NoReset\"\n",
    "\n",
    "if not os.path.exists(output_folder):\n",
    "    os.makedirs(output_folder)"
   ]
  },
  {
   "cell_type": "code",
   "execution_count": null,
   "metadata": {},
   "outputs": [],
   "source": [
    "header = '''\n",
    "ground truth for simple switched system\n",
    "switches at t=1 and t=5\n",
    "'''\n",
    "delim=','\n",
    "fmt='%.10e'\n",
    "t = no_resets['true']['t']\n",
    "gnd_truth = np.hstack((no_resets['true']['t'][:,np.newaxis],no_resets['true']['x'],no_resets['true']['w'][:,np.newaxis]))\n",
    "np.savetxt(output_folder/'gnd_truth.csv', gnd_truth, header=header, delimiter=delim, fmt=fmt)\n",
    "\n",
    "imm = no_resets['imm']\n",
    "imm_est = np.hstack([np.c_[t], imm['x'], imm['w']])\n",
    "np.savetxt( output_folder/'imm.csv', imm_est,header=header, delimiter=delim, fmt=fmt)\n",
    "\n",
    "\n",
    "vp = no_resets['var_proj']\n",
    "vp_est = np.hstack([np.c_[t], vp['x'], vp['w']])\n",
    "np.savetxt( output_folder/'var_proj.csv',vp_est, header=header, delimiter=delim, fmt=fmt)"
   ]
  },
  {
   "cell_type": "code",
   "execution_count": null,
   "metadata": {},
   "outputs": [],
   "source": []
  }
 ],
 "metadata": {
  "kernelspec": {
   "display_name": "Python 3",
   "language": "python",
   "name": "python3"
  },
  "language_info": {
   "codemirror_mode": {
    "name": "ipython",
    "version": 3
   },
   "file_extension": ".py",
   "mimetype": "text/x-python",
   "name": "python",
   "nbconvert_exporter": "python",
   "pygments_lexer": "ipython3",
   "version": "3.8.0"
  }
 },
 "nbformat": 4,
 "nbformat_minor": 2
}
